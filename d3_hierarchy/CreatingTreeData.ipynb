{
 "cells": [
  {
   "cell_type": "code",
   "execution_count": null,
   "metadata": {},
   "outputs": [],
   "source": [
    "import numpy as np\n",
    "import pandas as pd\n",
    "# from sqlalchemy import create_engine"
   ]
  },
  {
   "cell_type": "code",
   "execution_count": null,
   "metadata": {},
   "outputs": [],
   "source": [
    "# engine = create_engine('sqlite:///data/test.db')\n",
    "# DF = pd.read_sql(\"Select * from dm_POS_DB where BASE_DT='20190211'\", engine)\n",
    "# df = DF[DF['TAG']=='Master'].iloc[3:40]\n",
    "# pd.to_pickle(df, 'data.p')"
   ]
  },
  {
   "cell_type": "code",
   "execution_count": null,
   "metadata": {},
   "outputs": [],
   "source": [
    "df = pd.read_pickle('data.p')"
   ]
  },
  {
   "cell_type": "code",
   "execution_count": null,
   "metadata": {},
   "outputs": [],
   "source": [
    "df.iloc[0]"
   ]
  },
  {
   "cell_type": "code",
   "execution_count": null,
   "metadata": {},
   "outputs": [],
   "source": [
    "cols = ['TICKER', 'CTRY', 'GICS_CD', 'MktVal']\n",
    "df0 = df[cols]"
   ]
  },
  {
   "cell_type": "code",
   "execution_count": null,
   "metadata": {},
   "outputs": [],
   "source": [
    "df1 = df0.set_index(['CTRY', 'GICS_CD']).sort_index()"
   ]
  },
  {
   "cell_type": "code",
   "execution_count": null,
   "metadata": {},
   "outputs": [],
   "source": [
    "# def looper(item, p, df, idx=[]):    \n",
    "#     if p:\n",
    "#         a = dict()\n",
    "#         a['name'] = item\n",
    "#         a['children'] = list()\n",
    "#         return a, idx + [item]\n",
    "#     else:\n",
    "#         rname = {'TICKER': 'name', 'MktVal': 'value'}\n",
    "#         a = dict()\n",
    "#         a['name'] = item\n",
    "#         a['children'] = df.loc[tuple(idx + [item])] \\\n",
    "#             .rename(columns=rname) \\\n",
    "#             .to_dict(orient='records')\n",
    "#         return a, None"
   ]
  },
  {
   "cell_type": "code",
   "execution_count": null,
   "metadata": {},
   "outputs": [],
   "source": [
    "# lst, p = idx_spitter(df1.loc['JP'].index)\n",
    "# idx=['JP']"
   ]
  },
  {
   "cell_type": "code",
   "execution_count": null,
   "metadata": {},
   "outputs": [],
   "source": [
    "def idx_spitter(idx):\n",
    "    if isinstance(idx, pd.core.index.MultiIndex):\n",
    "        return set(idx.levels[0].tolist()), True\n",
    "    else:\n",
    "        return set(idx.tolist()), False"
   ]
  },
  {
   "cell_type": "code",
   "execution_count": null,
   "metadata": {},
   "outputs": [],
   "source": [
    "def looper(df, p, item=None, idx=[]):\n",
    "    if item is None:\n",
    "        a = dict()\n",
    "        a['name'] = 'port'\n",
    "        a['children'] = list()\n",
    "        return a, []\n",
    "    else:\n",
    "        if p:\n",
    "            a = dict()\n",
    "            a['name'] = item\n",
    "            a['children'] = list()\n",
    "            return a, idx + [item]\n",
    "        else:\n",
    "            rname = {'TICKER': 'name', 'MktVal': 'value'}\n",
    "            a = dict()\n",
    "            a['name'] = item\n",
    "            a['children'] = df.loc[tuple(idx + [item])] \\\n",
    "                .rename(columns=rname) \\\n",
    "                .to_dict(orient='records')\n",
    "            return a, None"
   ]
  },
  {
   "cell_type": "code",
   "execution_count": null,
   "metadata": {},
   "outputs": [],
   "source": [
    "# a = dict()\n",
    "# a['name'] = 'port'\n",
    "# a['children'] = list()\n",
    "# for item in lst:\n",
    "#     a['children'].append(looper(item, p, idx=idx)[0])"
   ]
  },
  {
   "cell_type": "code",
   "execution_count": null,
   "metadata": {},
   "outputs": [],
   "source": [
    "a = dict()\n",
    "a['name'] = 'port'\n",
    "a['children'] = list()\n",
    "lst, p = idx_spitter(df1.index)\n",
    "idx=[]\n",
    "for item in lst:\n",
    "    # 1st level\n",
    "    a_, idx_ = looper(df1, p, item, idx=idx)\n",
    "    lst_, p_ = idx_spitter(df1.loc[a_['name']].index)\n",
    "    if not p:\n",
    "        a['children'].append(a_)\n",
    "    else:\n",
    "        for item_ in lst_:\n",
    "            # 2nd level\n",
    "            a__, idx__ = looper(df1, p_, item_, idx=idx_)\n",
    "            if not p_:\n",
    "                a_['children'].append(a__)\n",
    "    a['children'].append(a_)"
   ]
  },
  {
   "cell_type": "code",
   "execution_count": null,
   "metadata": {},
   "outputs": [],
   "source": [
    "def main(df, p=True, item=None, idx=[]):\n",
    "    a, idx = looper(df, p, item, idx=idx)\n",
    "    if item is None:\n",
    "        lst, p = idx_spitter(df.index)\n",
    "    else:\n",
    "        if not p:\n",
    "            lst, p = None, False\n",
    "        else:\n",
    "            lst, p = idx_spitter(df.loc[a['name']].index)\n",
    "    return a, idx, lst, p"
   ]
  },
  {
   "cell_type": "code",
   "execution_count": null,
   "metadata": {},
   "outputs": [],
   "source": [
    "%qtconsole"
   ]
  },
  {
   "cell_type": "code",
   "execution_count": null,
   "metadata": {},
   "outputs": [],
   "source": [
    "a, idx, lst, p = main(df1, p=True, item=None, idx=[])\n",
    "for item in lst:\n",
    "    a_, idx_, lst_, p_ = main(df1, p, item, idx=idx)\n",
    "    if not p:\n",
    "        a['children'].append(a_)\n",
    "    else:\n",
    "        for item_ in lst_:\n",
    "            a__, idx__, lst__, p__ = main(df1, p_, item_, idx=idx_)\n",
    "            if not p_:\n",
    "                a_['children'].append(a__)\n",
    "    a['children'].append(a_)"
   ]
  },
  {
   "cell_type": "code",
   "execution_count": null,
   "metadata": {},
   "outputs": [],
   "source": [
    "import json"
   ]
  },
  {
   "cell_type": "code",
   "execution_count": null,
   "metadata": {},
   "outputs": [],
   "source": [
    "json.dumps(a)"
   ]
  }
 ],
 "metadata": {
  "kernelspec": {
   "display_name": "Python 3",
   "language": "python",
   "name": "python3"
  },
  "language_info": {
   "codemirror_mode": {
    "name": "ipython",
    "version": 3
   },
   "file_extension": ".py",
   "mimetype": "text/x-python",
   "name": "python",
   "nbconvert_exporter": "python",
   "pygments_lexer": "ipython3",
   "version": "3.7.1"
  }
 },
 "nbformat": 4,
 "nbformat_minor": 2
}
